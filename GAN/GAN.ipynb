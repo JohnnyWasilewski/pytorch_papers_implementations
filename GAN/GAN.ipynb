{
 "cells": [
  {
   "cell_type": "code",
   "execution_count": 1,
   "id": "bf0198ad",
   "metadata": {},
   "outputs": [],
   "source": [
    "import torch\n",
    "import pytorch_lightning as pl\n",
    "from torchvision.datasets import MNIST\n",
    "from torch import nn\n",
    "from torch.utils.data import DataLoader\n",
    "from torch.optim import Adam\n",
    "from torchvision import transforms\n",
    "import torch.nn.functional as F"
   ]
  },
  {
   "cell_type": "code",
   "execution_count": 2,
   "id": "197b897b",
   "metadata": {},
   "outputs": [],
   "source": [
    "mnist = MNIST('', download=True, transform=transforms.Compose([\n",
    "            transforms.ToTensor(),\n",
    "            transforms.Normalize((0.1307,), (0.3081,))\n",
    "        ]))"
   ]
  },
  {
   "cell_type": "code",
   "execution_count": 3,
   "id": "8fb5f526",
   "metadata": {},
   "outputs": [],
   "source": [
    "class Generator(nn.Module):\n",
    "    def __init__(self, img_size, network_width, network_depth):\n",
    "        super().__init__()\n",
    "        self.img_size = img_size\n",
    "        self.network_depth = network_depth\n",
    "        self.l1 = nn.Linear(self.img_size**2, network_width)\n",
    "        self.l2 = nn.Linear(network_width, network_width)\n",
    "        self.l3 = nn.Linear(network_width, self.img_size**2)\n",
    "        self.bn = nn.BatchNorm1d(network_width)\n",
    "        \n",
    "    def forward(self, x):\n",
    "        x = x.flatten(start_dim=1)\n",
    "        x = self.l1(x)\n",
    "        x = self.bn(F.leaky_relu(x))\n",
    "        for _ in range(self.network_depth - 2):\n",
    "            x = self.l2(x)\n",
    "            x = self.bn(F.leaky_relu(x))\n",
    "        x =  F.tanh(self.l3(x))\n",
    "        return x.view(-1, 1, self.img_size, self.img_size)\n",
    "\n",
    "class Discriminator(nn.Module):\n",
    "    def __init__(self, img_size, network_width, network_depth):\n",
    "        super().__init__()\n",
    "        self.network_depth = network_depth\n",
    "        self.l1 = nn.Linear(img_size**2, network_width)\n",
    "        self.l2 = nn.Linear(network_width, network_width)\n",
    "        self.l3 = nn.Linear(network_width, 1)\n",
    "        self.sigmoid = nn.Sigmoid()\n",
    "        self.bn = nn.BatchNorm1d(network_width)\n",
    "\n",
    "    def forward(self, x):\n",
    "        x = x.flatten(start_dim=1)\n",
    "        x = self.l1(x)\n",
    "        x = self.bn(F.leaky_relu(x))\n",
    "        for _ in range(self.network_depth - 2):\n",
    "            x = self.l2(x)\n",
    "            x = self.bn(F.leaky_relu(x))\n",
    "        x = self.sigmoid(self.l3(x))\n",
    "        return x"
   ]
  },
  {
   "cell_type": "code",
   "execution_count": 3,
   "id": "44849f95",
   "metadata": {},
   "outputs": [],
   "source": [
    "class Generator(nn.Module):\n",
    "    def __init__(self):\n",
    "        super(Generator, self).__init__()\n",
    "\n",
    "        def block(in_feat, out_feat, normalize=True):\n",
    "            layers = [nn.Linear(in_feat, out_feat)]\n",
    "            if normalize:\n",
    "                layers.append(nn.BatchNorm1d(out_feat, 0.8))\n",
    "            layers.append(nn.LeakyReLU(0.2, inplace=True))\n",
    "            return layers\n",
    "\n",
    "        self.model = nn.Sequential(\n",
    "            *block(100, 128, normalize=False),\n",
    "            *block(128, 256),\n",
    "            *block(256, 512),\n",
    "            *block(512, 1024),\n",
    "            nn.Linear(1024, int(np.prod((28,28)))),\n",
    "            nn.Tanh()\n",
    "        )\n",
    "\n",
    "    def forward(self, z):\n",
    "        img = self.model(z)\n",
    "        img = img.view(img.size(0), 1,28,28)\n",
    "        return img\n",
    "\n",
    "\n",
    "class Discriminator(nn.Module):\n",
    "    def __init__(self):\n",
    "        super(Discriminator, self).__init__()\n",
    "\n",
    "        self.model = nn.Sequential(\n",
    "            nn.Linear(int(np.prod((28,28))), 512),\n",
    "            nn.LeakyReLU(0.2, inplace=True),\n",
    "            nn.Linear(512, 256),\n",
    "            nn.LeakyReLU(0.2, inplace=True),\n",
    "            nn.Linear(256, 1),\n",
    "            nn.Sigmoid(),\n",
    "        )\n",
    "\n",
    "    def forward(self, img):\n",
    "        img_flat = img.view(img.size(0), -1)\n",
    "        validity = self.model(img_flat)\n",
    "\n",
    "        return validity"
   ]
  },
  {
   "cell_type": "code",
   "execution_count": 4,
   "id": "d3808794",
   "metadata": {},
   "outputs": [],
   "source": [
    "class GAN(pl.LightningModule):\n",
    "    def __init__(self, dataset, image_size=28, batch_size=64, generator_width=800, generator_depth=6,\n",
    "                discriminator_width=400, discriminator_depth=3, discriminator_training_loops=1, num_workers=16):\n",
    "        super().__init__()\n",
    "        self.image_size = image_size\n",
    "        self.batch_size = batch_size\n",
    "        self.generator_width = generator_width\n",
    "        self.generator_depth = generator_depth\n",
    "        self.discriminator_width = discriminator_width\n",
    "        self.discriminator_depth = discriminator_depth\n",
    "        self.discriminator_training_loops = discriminator_training_loops\n",
    "        self.generator = Generator()#self.image_size, self.generator_width, self.generator_depth)\n",
    "        self.discriminator = Discriminator()#self.image_size, self.discriminator_width, self.discriminator_depth)\n",
    "        self.automatic_optimization=False\n",
    "        self.dataset = dataset\n",
    "        self.num_workers = num_workers\n",
    "        \n",
    "    def train_dataloader(self):\n",
    "        return DataLoader(self.dataset,\n",
    "                          self.batch_size * self.discriminator_training_loops,\n",
    "                          shuffle=True,\n",
    "                          num_workers=self.num_workers)\n",
    "    \n",
    "    def training_step(self, batch, batch_idx):\n",
    "        X, _ = batch\n",
    "        generator_optimizer, discriminator_optimizer = self.optimizers()\n",
    "        for data_batch in torch.split(X, self.batch_size):\n",
    "            noise_batch = torch.randn(self.batch_size, 100).cuda()\n",
    "            discriminator_optimizer.zero_grad()\n",
    "            loss_discriminator = self.discriminator_loss(data_batch, noise_batch)\n",
    "            self.manual_backward(loss_discriminator)\n",
    "            \n",
    "            grad_max = max([torch.max(p.grad) for p in self.discriminator.parameters() if p.grad is not None])\n",
    "            torch.nn.utils.clip_grad_value_(self.discriminator.parameters(), 0.5)\n",
    "            grad_max_a = max([torch.max(p.grad) for p in self.discriminator.parameters() if p.grad is not None])\n",
    "            \n",
    "            \n",
    "            discriminator_optimizer.step()\n",
    "        generator_optimizer.zero_grad()\n",
    "        noise_batch = torch.randn(self.batch_size, 100).cuda()\n",
    "        loss_generator = self.generator_loss(noise_batch)\n",
    "        self.manual_backward(loss_generator)\n",
    "\n",
    "        grad_max2 = max([torch.max(p.grad) for p in self.generator.parameters() if p.grad is not None])\n",
    "        torch.nn.utils.clip_grad_value_(self.generator.parameters(), 0.5)\n",
    "        grad_max2_a = max([torch.max(p.grad) for p in self.generator.parameters() if p.grad is not None])\n",
    "            \n",
    "        generator_optimizer.step()\n",
    "        self.logger.experiment.add_scalar(\"Generator_loss\", loss_generator, self.current_epoch)\n",
    "        self.logger.experiment.add_scalar(\"Discriminator_loss\", loss_discriminator, self.current_epoch)\n",
    "        self.logger.experiment.add_scalar(\"Grad_max_before\", grad_max, self.current_epoch)\n",
    "        self.logger.experiment.add_scalar(\"Grad_max_after\", grad_max_a, self.current_epoch)\n",
    "        self.logger.experiment.add_scalar(\"Grad_max_before2\", grad_max2, self.current_epoch)\n",
    "        self.logger.experiment.add_scalar(\"Grad_max_after2\", grad_max2_a, self.current_epoch)\n",
    "        return \n",
    "    \n",
    "    def configure_optimizers(self):\n",
    "        generator_optimizer = Adam(self.generator.parameters(), lr=0.0002, betas=(0.5, 0.999))\n",
    "        discriminator_optimizer = Adam(self.discriminator.parameters(), lr=0.0002, betas=(0.5, 0.999))\n",
    "        return generator_optimizer, discriminator_optimizer\n",
    "    \n",
    "    def generator_loss(self, noise):\n",
    "        return -torch.mean(torch.log(self.discriminator(self.generator(noise)) + 1e-16))\n",
    "    \n",
    "    def discriminator_loss(self, data, noise):\n",
    "        return -0.5 * torch.mean(torch.log(self.discriminator(data) + 1e-16)) - 0.5 * torch.mean(torch.log(1-self.discriminator(self.generator(noise)) + 1e-16))"
   ]
  },
  {
   "cell_type": "code",
   "execution_count": 5,
   "id": "286b4fa8",
   "metadata": {},
   "outputs": [
    {
     "name": "stderr",
     "output_type": "stream",
     "text": [
      "GPU available: True, used: True\n",
      "TPU available: False, using: 0 TPU cores\n",
      "IPU available: False, using: 0 IPUs\n"
     ]
    }
   ],
   "source": [
    "from pytorch_lightning import Trainer\n",
    "from pytorch_lightning.loggers import TensorBoardLogger\n",
    "logger = TensorBoardLogger('my_logs', 'GAN')\n",
    "tr = Trainer(max_epochs=500, gpus=1, logger=logger)"
   ]
  },
  {
   "cell_type": "code",
   "execution_count": 6,
   "id": "5460d96e",
   "metadata": {
    "scrolled": true
   },
   "outputs": [
    {
     "data": {
      "text/html": [
       "\n",
       "      <iframe id=\"tensorboard-frame-f48fe7abe2eb9f\" width=\"100%\" height=\"800\" frameborder=\"0\">\n",
       "      </iframe>\n",
       "      <script>\n",
       "        (function() {\n",
       "          const frame = document.getElementById(\"tensorboard-frame-f48fe7abe2eb9f\");\n",
       "          const url = new URL(\"/\", window.location);\n",
       "          const port = 6006;\n",
       "          if (port) {\n",
       "            url.port = port;\n",
       "          }\n",
       "          frame.src = url;\n",
       "        })();\n",
       "      </script>\n",
       "    "
      ],
      "text/plain": [
       "<IPython.core.display.HTML object>"
      ]
     },
     "metadata": {},
     "output_type": "display_data"
    }
   ],
   "source": [
    "%reload_ext tensorboard\n",
    "%tensorboard --logdir my_logs/"
   ]
  },
  {
   "cell_type": "code",
   "execution_count": null,
   "id": "8c4b4200",
   "metadata": {},
   "outputs": [
    {
     "name": "stderr",
     "output_type": "stream",
     "text": [
      "LOCAL_RANK: 0 - CUDA_VISIBLE_DEVICES: [0]\n",
      "\n",
      "  | Name          | Type          | Params\n",
      "------------------------------------------------\n",
      "0 | generator     | Generator     | 1.5 M \n",
      "1 | discriminator | Discriminator | 533 K \n",
      "------------------------------------------------\n",
      "2.0 M     Trainable params\n",
      "0         Non-trainable params\n",
      "2.0 M     Total params\n",
      "8.174     Total estimated model params size (MB)\n"
     ]
    },
    {
     "data": {
      "application/vnd.jupyter.widget-view+json": {
       "model_id": "f7a60374c6ee4cd6a42f5ceaae66afa7",
       "version_major": 2,
       "version_minor": 0
      },
      "text/plain": [
       "Training: 0it [00:00, ?it/s]"
      ]
     },
     "metadata": {},
     "output_type": "display_data"
    }
   ],
   "source": [
    "import numpy as np\n",
    "model = GAN(mnist)\n",
    "tr.fit(model)"
   ]
  }
 ],
 "metadata": {
  "kernelspec": {
   "display_name": "Python 3 (ipykernel)",
   "language": "python",
   "name": "python3"
  },
  "language_info": {
   "codemirror_mode": {
    "name": "ipython",
    "version": 3
   },
   "file_extension": ".py",
   "mimetype": "text/x-python",
   "name": "python",
   "nbconvert_exporter": "python",
   "pygments_lexer": "ipython3",
   "version": "3.8.10"
  }
 },
 "nbformat": 4,
 "nbformat_minor": 5
}
